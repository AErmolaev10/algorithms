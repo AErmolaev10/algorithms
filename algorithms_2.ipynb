{
 "cells": [
  {
   "cell_type": "markdown",
   "metadata": {},
   "source": [
    "Сгенерировать датасет при помощи sklearn.datasets.make_regression и обучить линейную модель при помощи градиентного и стохастического градиентного спуска. Нанести среднеквадратичную ошибку для обоих методов на один график, сделать выводы о разнице скорости сходимости каждого из методов."
   ]
  },
  {
   "cell_type": "code",
   "execution_count": 1,
   "metadata": {},
   "outputs": [],
   "source": [
    "import numpy as np\n",
    "from sklearn import datasets\n",
    "import matplotlib.pyplot as plt"
   ]
  },
  {
   "cell_type": "code",
   "execution_count": 2,
   "metadata": {},
   "outputs": [],
   "source": [
    "data, target, coef = datasets.make_regression(n_samples=10000, n_features = 2, n_informative = 2, n_targets = 1, \n",
    "                                              noise = 5, coef = True, random_state = 2)"
   ]
  },
  {
   "cell_type": "code",
   "execution_count": 3,
   "metadata": {},
   "outputs": [],
   "source": [
    "def calc_mse(y, y_pred):\n",
    "    err = np.mean((y - y_pred)**2)\n",
    "    return err"
   ]
  },
  {
   "cell_type": "code",
   "execution_count": 4,
   "metadata": {},
   "outputs": [],
   "source": [
    "# Добавим единичный столбец\n",
    "data = np.hstack([np.ones((data.shape[0], 1)), data])"
   ]
  },
  {
   "cell_type": "code",
   "execution_count": 5,
   "metadata": {},
   "outputs": [],
   "source": [
    "# Градиентный спуск\n",
    "def grad(X, y, iterations, alpha):\n",
    "    \n",
    "    np.random.seed(42)\n",
    "    W = np.random.randn(X.shape[1])\n",
    "    w_list = [W.copy()]\n",
    "    errors = []\n",
    "    n = X.shape[0]\n",
    "    \n",
    "    for i in range(iterations):\n",
    "        y_pred = np.dot(X, W)\n",
    "        err = calc_mse(y, y_pred)\n",
    "\n",
    "        old_W = W.copy()\n",
    "        W -= (alpha * (1/n * 2 * X.T @ (y_pred - y)))\n",
    "\n",
    "        w_list.append(W.copy())\n",
    "        errors.append(err)\n",
    "\n",
    "        if i % 100 == 0:\n",
    "            print(i, W, err)\n",
    "\n",
    "        if np.linalg.norm(W - old_W, ord=2) < 1e-6:\n",
    "            y_pred = np.dot(X, W)\n",
    "            err = calc_mse(y, y_pred)\n",
    "            errors.append(err)\n",
    "            print(i, W, err)\n",
    "            break\n",
    "        \n",
    "    w_list = np.array(w_list)\n",
    "    \n",
    "    return y_pred, W, w_list, errors"
   ]
  },
  {
   "cell_type": "code",
   "execution_count": 6,
   "metadata": {},
   "outputs": [],
   "source": [
    "#Стохастический градиентный спуск\n",
    "def sgd(X, y, iterations, qty_in_batch=1, alpha=1e-4):\n",
    "    np.random.seed(42)\n",
    "    W = np.random.randn(X.shape[1])\n",
    "    w_list = [W.copy()]\n",
    "    errors = []\n",
    "    n = X.shape[0]\n",
    "    n_batch = n // qty_in_batch\n",
    "    if n % qty_in_batch != 0:\n",
    "        n_batch += 1\n",
    "    for i in range(1, iterations+1):\n",
    "        for b in range(n_batch):\n",
    "            start_ = qty_in_batch*b\n",
    "            end_ = qty_in_batch*(b+1)\n",
    "\n",
    "            X_tmp = X[start_ : end_, :]\n",
    "            y_tmp = y[start_ : end_]\n",
    "            y_pred_tmp = np.dot(X_tmp, W)\n",
    "            err = calc_mse(y_tmp, y_pred_tmp)\n",
    "            W -= (alpha * (1/n * 2 * np.dot(X_tmp.T, (y_pred_tmp - y_tmp))))\n",
    "            \n",
    "            w_list.append(W.copy())\n",
    "            errors.append(err)\n",
    "\n",
    "        if i % (iterations / 10) == 0:\n",
    "            print(i, W, err)\n",
    "        \n",
    "        if i == iterations:\n",
    "            y_pred_tmp = np.dot(X_tmp, W)\n",
    "            errors.append(calc_mse(y_tmp, y_pred_tmp))\n",
    "            print(i, W, err)\n",
    "    \n",
    "    w_list = np.array(w_list)\n",
    "    \n",
    "    return y_pred_tmp, W, w_list, errors"
   ]
  },
  {
   "cell_type": "code",
   "execution_count": 7,
   "metadata": {},
   "outputs": [
    {
     "name": "stdout",
     "output_type": "stream",
     "text": [
      "0 [0.39984846 9.29665216 0.9756307 ] 2273.4948218417258\n",
      "73 [-4.49079348e-02  4.74814648e+01  1.63372090e+00] 25.174674610296258\n"
     ]
    }
   ],
   "source": [
    "alpha = 1e-1\n",
    "y_pred1, W1, w_list1, errors1 = grad(data, target, 10000, alpha)"
   ]
  },
  {
   "cell_type": "code",
   "execution_count": 8,
   "metadata": {},
   "outputs": [
    {
     "name": "stdout",
     "output_type": "stream",
     "text": [
      "10 [0.407934   8.4206131  0.93316167] 831.4368777130195\n",
      "20 [ 0.33359943 15.4409269   1.14721939] 524.3100866887171\n",
      "30 [ 0.27137983 21.19929639  1.30642869] 325.43658357974397\n",
      "40 [ 0.21931682 25.92259922  1.42368637] 197.8138539806547\n",
      "50 [ 0.17576551 29.79691746  1.50900728] 116.8920197453218\n",
      "60 [ 0.13934493 32.97487438  1.57014698] 66.41706415818965\n",
      "70 [ 0.10889617 35.58165158  1.61309308] 35.65566510241394\n",
      "80 [ 0.083447   37.71992379  1.64245236] 17.543458885921765\n",
      "90 [ 0.06218218 39.47390614  1.66175559] 7.450326050401246\n",
      "100 [ 0.04441832 40.91267348  1.67369686] 2.357814306021277\n",
      "100 [ 0.04441832 40.91267348  1.67369686] 2.357814306021277\n"
     ]
    }
   ],
   "source": [
    "y_pred2, W2, w_list2, errors2 = sgd(data, target, 100, alpha=0.01)"
   ]
  },
  {
   "cell_type": "code",
   "execution_count": 9,
   "metadata": {},
   "outputs": [
    {
     "data": {
      "image/png": "[encoded data removed]",
      "text/plain": [
       "<Figure size 720x504 with 1 Axes>"
      ]
     },
     "metadata": {
      "needs_background": "light"
     },
     "output_type": "display_data"
    }
   ],
   "source": [
    "plt.figure(figsize=(10, 7))\n",
    "plt.plot(range(len(errors2)), errors2, alpha=0.1, color='red')\n",
    "plt.plot(np.arange(0,len(errors1)*data.shape[0],data.shape[0]), errors1, color='green')\n",
    "\n",
    "plt.title('MSE')\n",
    "plt.xlabel('Iteration number')\n",
    "plt.ylabel('MSE')\n",
    "\n",
    "plt.show()"
   ]
  },
  {
   "cell_type": "markdown",
   "metadata": {},
   "source": [
    "Скорость сходимости градиентного спуска выше, чем скорость сходимости SGD"
   ]
  },
  {
   "cell_type": "markdown",
   "metadata": {},
   "source": [
    "Модифицировать решение первого задания путем добавления 𝐿2 -регуляризации (в функцию, считающую MSE, нужно добавить норму вектора весов) и сравнить результаты."
   ]
  },
  {
   "cell_type": "code",
   "execution_count": 10,
   "metadata": {},
   "outputs": [],
   "source": [
    "def calc_std_feat(x):\n",
    "    res = (x - x.mean()) / x.std()\n",
    "    return res"
   ]
  },
  {
   "cell_type": "code",
   "execution_count": 11,
   "metadata": {},
   "outputs": [],
   "source": [
    "#Стандартизируем признаки\n",
    "data_st = data.copy()\n",
    "for i in range(1, data.shape[1]):\n",
    "    data_st[:, i] = calc_std_feat(data_st[:, i])"
   ]
  },
  {
   "cell_type": "code",
   "execution_count": 12,
   "metadata": {},
   "outputs": [],
   "source": [
    "def ridge_gradient_descent(X, y, iterations, lambda_, alpha):\n",
    "    \n",
    "    np.random.seed(42)\n",
    "    W = np.random.randn(X.shape[1])\n",
    "    w_list = [W.copy()]\n",
    "    errors = []\n",
    "    n = X.shape[0]\n",
    "    \n",
    "    for i in range(iterations):\n",
    "        y_pred = np.dot(X, W)\n",
    "        err = calc_mse(y, y_pred)\n",
    "\n",
    "        old_W = W.copy()\n",
    "        W -= (alpha * (1/n * 2 * X.T @ (y_pred - y) + 2 * lambda_ * W))\n",
    "\n",
    "        w_list.append(W.copy())\n",
    "        errors.append(err)\n",
    "\n",
    "        if i % 100 == 0:\n",
    "              print(i, W, err)\n",
    "\n",
    "        if np.linalg.norm(W - old_W, ord=2) < 1e-6:\n",
    "            y_pred = np.dot(X, W)\n",
    "            err = calc_mse(y, y_pred)\n",
    "            errors.append(err)\n",
    "            print(i, W, err)\n",
    "            break\n",
    "        \n",
    "    w_list = np.array(w_list)\n",
    "    \n",
    "    return y_pred, W, w_list, errors"
   ]
  },
  {
   "cell_type": "code",
   "execution_count": 13,
   "metadata": {},
   "outputs": [],
   "source": [
    "def ridge_sgd(X, y, iterations, lambda_=1e-2, qty_in_batch=1, alpha=1e-4):\n",
    "    np.random.seed(42)\n",
    "    W = np.random.randn(X.shape[1])\n",
    "    w_list = [W.copy()]\n",
    "    errors = []\n",
    "    n = X.shape[0]\n",
    "    n_batch = n // qty_in_batch\n",
    "    if n % qty_in_batch != 0:\n",
    "        n_batch += 1\n",
    "    for i in range(1, iterations+1):\n",
    "        for b in range(n_batch):\n",
    "            start_ = qty_in_batch*b\n",
    "            end_ = qty_in_batch*(b+1)\n",
    "\n",
    "\n",
    "            X_tmp = X[start_ : end_, :]\n",
    "            y_tmp = y[start_ : end_]\n",
    "            y_pred_tmp = np.dot(X_tmp, W)\n",
    "            err = calc_mse(y_tmp, y_pred_tmp)\n",
    "            W -= (alpha * (1/n * 2 * np.dot(X_tmp.T, (y_pred_tmp - y_tmp)) + 2 * lambda_ * W))\n",
    "            \n",
    "        w_list.append(W.copy())\n",
    "        errors.append(err)\n",
    "\n",
    "        if i % (iterations / 10) == 0:\n",
    "             print(i, W, err)\n",
    "        \n",
    "        if i == iterations:\n",
    "            y_pred_tmp = np.dot(X_tmp, W)\n",
    "            errors.append(calc_mse(y_tmp, y_pred_tmp))\n",
    "            print(i, W, err)\n",
    "\n",
    "    \n",
    "    w_list = np.array(w_list)\n",
    "    \n",
    "    return y_pred_tmp, W, w_list, errors"
   ]
  },
  {
   "cell_type": "code",
   "execution_count": 14,
   "metadata": {},
   "outputs": [
    {
     "name": "stdout",
     "output_type": "stream",
     "text": [
      "0 [0.20080321 9.39788832 0.71377114] 2273.5872343939063\n",
      "18 [3.52926167e-03 1.57551446e+01 6.88703222e-01] 1019.0069785389888\n"
     ]
    }
   ],
   "source": [
    "_, _, _, errors3 = ridge_gradient_descent(data_st, target, 10000, i, alpha)"
   ]
  },
  {
   "cell_type": "code",
   "execution_count": 15,
   "metadata": {},
   "outputs": [
    {
     "data": {
      "image/png": "[encoded data removed]",
      "text/plain": [
       "<Figure size 936x432 with 1 Axes>"
      ]
     },
     "metadata": {
      "needs_background": "light"
     },
     "output_type": "display_data"
    }
   ],
   "source": [
    "plt.figure(figsize=(13, 6))\n",
    "plt.plot(range(len(errors3)), errors3, label=f'lambda={i}')\n",
    "plt.title('MSE for ridge gradient descent')\n",
    "plt.legend()\n",
    "plt.xlabel('Iteration number')\n",
    "plt.ylabel('MSE')\n",
    "plt.show()"
   ]
  },
  {
   "cell_type": "code",
   "execution_count": 16,
   "metadata": {},
   "outputs": [
    {
     "name": "stdout",
     "output_type": "stream",
     "text": [
      "2 [-0.000284    0.00102003  0.0006774 ] 1295.4917446621132\n",
      "4 [-0.000284    0.00102003  0.0006774 ] 1295.4917446621132\n",
      "6 [-0.000284    0.00102003  0.0006774 ] 1295.4917446621132\n",
      "8 [-0.000284    0.00102003  0.0006774 ] 1295.4917446621132\n",
      "10 [-0.000284    0.00102003  0.0006774 ] 1295.4917446621132\n",
      "12 [-0.000284    0.00102003  0.0006774 ] 1295.4917446621132\n",
      "14 [-0.000284    0.00102003  0.0006774 ] 1295.4917446621132\n",
      "16 [-0.000284    0.00102003  0.0006774 ] 1295.4917446621132\n",
      "18 [-0.000284    0.00102003  0.0006774 ] 1295.4917446621132\n",
      "20 [-0.000284    0.00102003  0.0006774 ] 1295.4917446621132\n",
      "20 [-0.000284    0.00102003  0.0006774 ] 1295.4917446621132\n"
     ]
    }
   ],
   "source": [
    "_, _, _, errors4 = ridge_sgd(data_st, target, 20, lambda_=i, alpha=1e-1)"
   ]
  },
  {
   "cell_type": "code",
   "execution_count": 17,
   "metadata": {},
   "outputs": [
    {
     "data": {
      "image/png": "[encoded data removed]",
      "text/plain": [
       "<Figure size 936x432 with 1 Axes>"
      ]
     },
     "metadata": {
      "needs_background": "light"
     },
     "output_type": "display_data"
    }
   ],
   "source": [
    "plt.figure(figsize=(13, 6))\n",
    "plt.plot(range(len(errors4)), errors4, label=f'lambda={i}')\n",
    "plt.title('MSE for ridge gradient descent')\n",
    "plt.legend()\n",
    "plt.xlabel('Iteration number')\n",
    "plt.ylabel('MSE')\n",
    "plt.show()"
   ]
  },
  {
   "cell_type": "markdown",
   "metadata": {},
   "source": [
    "При регуляризации показатели ошибки увеличились"
   ]
  }
 ],
 "metadata": {
  "kernelspec": {
   "display_name": "Python 3",
   "language": "python",
   "name": "python3"
  },
  "language_info": {
   "codemirror_mode": {
    "name": "ipython",
    "version": 3
   },
   "file_extension": ".py",
   "mimetype": "text/x-python",
   "name": "python",
   "nbconvert_exporter": "python",
   "pygments_lexer": "ipython3",
   "version": "3.8.5"
  }
 },
 "nbformat": 4,
 "nbformat_minor": 4
}
